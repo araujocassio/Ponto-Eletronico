{
 "cells": [
  {
   "attachments": {},
   "cell_type": "markdown",
   "metadata": {},
   "source": [
    "*CONTROLE DE ACESSO*\n",
    "\n",
    ">`Controle de acesso diz respeito às tecnologias (hardware e software) que têm como principal função o gerenciamento do acesso a determinados ambientes, especialmente em locais onde exista um fluxo elevado de pessoas, materiais e veículos. É o caso, por exemplo, de empresas, condomínios, academias, instituições de ensino ou qualquer outro local em que o acesso seja restrito.Nesse sentido, o principal objetivo dos sistemas de controle de acesso é impedir a entrada de pessoas não autorizadas, aumentando a segurança e garantindo a integridade de pessoas e bens. Não à toa, o uso de sistema de controle de acesso tem se tornado cada vez mais comum. E isso se explica, em parte, por sua capacidade de aliar alta eficiência, modernidade e simplicidade em uma única solução integrada de segurança.`\n",
    "\n",
    "<center><img src = 'CA.jpg' ></center>\n",
    "\n",
    ">* *Cartão de acesso ou tag*\n",
    ">>`Muito utilizado em ambientes corporativos, tanto para funcionários quanto para visitantes. Funciona como uma espécie de credencial do usuário, permitindo ao sistema identificá-lo e liberá-lo de acordo com as restrições estabelecidas pela própria empresa. A liberação é feita por meio da aproximação ou introdução do cartão ou da tag a um leitor.Trata-se de um recurso especialmente útil para empresas que precisam restringir ou liberar o acesso de determinados colaboradores a determinadas áreas ou departamentos da empresa, limitando e organizando a circulação de pessoas e possíveis brechas na segurança do local.`\n",
    "\n",
    ">* *Vantagens do controle de acesso*\n",
    ">>* `Acompanhar o fluxo de pessoas`\n",
    ">>* `Reduzir os custos operacionais`\n",
    ">>* `Aumentar a segurança`\n",
    ">>* `Possibilidade de localização dos colaboradores dentro da empresa;`\n",
    ">>* **`Possibilidade de integração ao sistema de ponto eletrônicos dos funcionários`**\n",
    "\n",
    "\n",
    ">* *Objetivo*\n",
    ">>`O objetivo desse projeto é analisar os dados de controle de acesso a fim de melhorar a aplicação do controle de acesso do prédio, identificar problemas e extrair informações importantes desses dados.`\n",
    "\n",
    ">>**`Espera-se um modelo que seja capaz de identificar problemas como: Cartões invalidos, cartões com id incorreto, horario de entrada e saida de funcionarios, horas e dias trabalhados, quantidade de carros na garagem`**\n",
    "\n",
    "*Autor: `Cássio Araujo`*"
   ]
  },
  {
   "cell_type": "markdown",
   "metadata": {},
   "source": [
    "**Importar os Dados**\n",
    "\n",
    "`Os dados que serão utilizados nessa analise foram extraimos do SQL Server do servidor de automação. Estes dados estão em aquivo .csv e serão importados para uma estrutura DataFrame utilizando a biblioteca pandas a fim de possibilitar sua manipulação e análise`"
   ]
  },
  {
   "cell_type": "code",
   "execution_count": 2,
   "metadata": {},
   "outputs": [],
   "source": [
    "# Importando as bibliotecas necessarias\n",
    "import pandas as pd\n",
    "import matplotlib.pyplot as plt\n",
    "import seaborn as sns\n",
    "import numpy as np\n",
    "from datetime import timedelta\n",
    "# definir o estilo do seaborn para os plots\n",
    "sns.set_style('whitegrid')"
   ]
  },
  {
   "cell_type": "code",
   "execution_count": 3,
   "metadata": {},
   "outputs": [],
   "source": [
    "# Importando o arquivo .csv para um dataframe\n",
    "df = pd.read_csv('C:/Users/engca/Documents/Estudos (Python)/env/Controle de Acesso/Controle de Acesso Premium.csv', sep=';', parse_dates=True, index_col='ACEInstance')\n",
    "\n"
   ]
  },
  {
   "cell_type": "markdown",
   "metadata": {},
   "source": [
    "**Análise Exploratória de Dados**\n",
    "\n",
    "`A primeira coisa que faremos apos importar o dataset será examinar as dimensões do DataFrame e as primeiras entradas, Isso possibilitara criar uma consciencia situacional inicial a respeito do formato de entrada e da estrutura geral dos dados`"
   ]
  },
  {
   "cell_type": "code",
   "execution_count": 4,
   "metadata": {},
   "outputs": [
    {
     "name": "stdout",
     "output_type": "stream",
     "text": [
      "\n",
      "DIMENSÕES DO DATAFRAME:\n",
      "\n",
      "Variáveis:\t13\n",
      "Entradas:\t896909\n"
     ]
    }
   ],
   "source": [
    "# Identificar o volume de dados do DataFrame\n",
    "print('\\nDIMENSÕES DO DATAFRAME:\\n')\n",
    "print('Variáveis:\\t{}'.format(df.shape[1]))\n",
    "print('Entradas:\\t{}'.format(df.shape[0]))"
   ]
  },
  {
   "cell_type": "markdown",
   "metadata": {},
   "source": [
    "`Já as primeiras 5 entradas desse conjunto de dados permitem adquirirmos uma noção inicial sobre o tipo de formato, exemplos de entrada e formulação das hipoteses iniciais do processo investigativo`"
   ]
  },
  {
   "cell_type": "code",
   "execution_count": 5,
   "metadata": {},
   "outputs": [
    {
     "data": {
      "text/html": [
       "<div>\n",
       "<style scoped>\n",
       "    .dataframe tbody tr th:only-of-type {\n",
       "        vertical-align: middle;\n",
       "    }\n",
       "\n",
       "    .dataframe tbody tr th {\n",
       "        vertical-align: top;\n",
       "    }\n",
       "\n",
       "    .dataframe thead th {\n",
       "        text-align: right;\n",
       "    }\n",
       "</style>\n",
       "<table border=\"1\" class=\"dataframe\">\n",
       "  <thead>\n",
       "    <tr style=\"text-align: right;\">\n",
       "      <th></th>\n",
       "      <th>EventTime</th>\n",
       "      <th>EventTypeNumber</th>\n",
       "      <th>EventObjectID</th>\n",
       "      <th>EventObjectName</th>\n",
       "      <th>EventObjectDevice</th>\n",
       "      <th>EventObjectType</th>\n",
       "      <th>EventObjectInstance</th>\n",
       "      <th>CardUserInstance</th>\n",
       "      <th>CardUserName</th>\n",
       "      <th>CardUserNumber</th>\n",
       "      <th>SiteCode</th>\n",
       "      <th>EventArg</th>\n",
       "      <th>FloorName</th>\n",
       "    </tr>\n",
       "    <tr>\n",
       "      <th>ACEInstance</th>\n",
       "      <th></th>\n",
       "      <th></th>\n",
       "      <th></th>\n",
       "      <th></th>\n",
       "      <th></th>\n",
       "      <th></th>\n",
       "      <th></th>\n",
       "      <th></th>\n",
       "      <th></th>\n",
       "      <th></th>\n",
       "      <th></th>\n",
       "      <th></th>\n",
       "      <th></th>\n",
       "    </tr>\n",
       "  </thead>\n",
       "  <tbody>\n",
       "    <tr>\n",
       "      <th>899464</th>\n",
       "      <td>2023-05-02 13:21:41.000</td>\n",
       "      <td>1</td>\n",
       "      <td>20000.DC201</td>\n",
       "      <td>DC_Entrada Catraca 02 Terreo</td>\n",
       "      <td>20000</td>\n",
       "      <td>DC</td>\n",
       "      <td>201</td>\n",
       "      <td>2322</td>\n",
       "      <td>GIOVANNA AZEVEDO</td>\n",
       "      <td>40165</td>\n",
       "      <td>226</td>\n",
       "      <td>0</td>\n",
       "      <td>NaN</td>\n",
       "    </tr>\n",
       "    <tr>\n",
       "      <th>899465</th>\n",
       "      <td>2023-05-02 13:22:06.000</td>\n",
       "      <td>1</td>\n",
       "      <td>20000.DC301</td>\n",
       "      <td>DC_Entrada Catraca 01 Terreo</td>\n",
       "      <td>20000</td>\n",
       "      <td>DC</td>\n",
       "      <td>301</td>\n",
       "      <td>2292</td>\n",
       "      <td>ROBSON LENIN EVANGELISTA CARVALHO</td>\n",
       "      <td>1314</td>\n",
       "      <td>240</td>\n",
       "      <td>0</td>\n",
       "      <td>NaN</td>\n",
       "    </tr>\n",
       "    <tr>\n",
       "      <th>899466</th>\n",
       "      <td>2023-05-02 13:22:14.000</td>\n",
       "      <td>1</td>\n",
       "      <td>30000.DC102</td>\n",
       "      <td>DC_Saida Catraca 01 Terreo</td>\n",
       "      <td>30000</td>\n",
       "      <td>DC</td>\n",
       "      <td>102</td>\n",
       "      <td>2196</td>\n",
       "      <td>RENATO BATISTA DE LIMA</td>\n",
       "      <td>620</td>\n",
       "      <td>240</td>\n",
       "      <td>1</td>\n",
       "      <td>NaN</td>\n",
       "    </tr>\n",
       "    <tr>\n",
       "      <th>899467</th>\n",
       "      <td>2023-05-02 13:22:18.000</td>\n",
       "      <td>1</td>\n",
       "      <td>20000.DC202</td>\n",
       "      <td>DC_Saida Catraca 02 Terreo</td>\n",
       "      <td>20000</td>\n",
       "      <td>DC</td>\n",
       "      <td>202</td>\n",
       "      <td>330</td>\n",
       "      <td>RAUL RIBEIRO DE SOUZA</td>\n",
       "      <td>1245</td>\n",
       "      <td>240</td>\n",
       "      <td>1</td>\n",
       "      <td>NaN</td>\n",
       "    </tr>\n",
       "    <tr>\n",
       "      <th>899468</th>\n",
       "      <td>2023-05-02 13:22:37.000</td>\n",
       "      <td>1</td>\n",
       "      <td>20000.DC301</td>\n",
       "      <td>DC_Entrada Catraca 01 Terreo</td>\n",
       "      <td>20000</td>\n",
       "      <td>DC</td>\n",
       "      <td>301</td>\n",
       "      <td>1765</td>\n",
       "      <td>CARTÃO MESTRE 03</td>\n",
       "      <td>1479</td>\n",
       "      <td>250</td>\n",
       "      <td>0</td>\n",
       "      <td>NaN</td>\n",
       "    </tr>\n",
       "  </tbody>\n",
       "</table>\n",
       "</div>"
      ],
      "text/plain": [
       "                           EventTime  EventTypeNumber EventObjectID  \\\n",
       "ACEInstance                                                           \n",
       "899464       2023-05-02 13:21:41.000                1   20000.DC201   \n",
       "899465       2023-05-02 13:22:06.000                1   20000.DC301   \n",
       "899466       2023-05-02 13:22:14.000                1   30000.DC102   \n",
       "899467       2023-05-02 13:22:18.000                1   20000.DC202   \n",
       "899468       2023-05-02 13:22:37.000                1   20000.DC301   \n",
       "\n",
       "                          EventObjectName  EventObjectDevice EventObjectType  \\\n",
       "ACEInstance                                                                    \n",
       "899464       DC_Entrada Catraca 02 Terreo              20000              DC   \n",
       "899465       DC_Entrada Catraca 01 Terreo              20000              DC   \n",
       "899466         DC_Saida Catraca 01 Terreo              30000              DC   \n",
       "899467         DC_Saida Catraca 02 Terreo              20000              DC   \n",
       "899468       DC_Entrada Catraca 01 Terreo              20000              DC   \n",
       "\n",
       "             EventObjectInstance  CardUserInstance  \\\n",
       "ACEInstance                                          \n",
       "899464                       201              2322   \n",
       "899465                       301              2292   \n",
       "899466                       102              2196   \n",
       "899467                       202               330   \n",
       "899468                       301              1765   \n",
       "\n",
       "                                  CardUserName  CardUserNumber  SiteCode  \\\n",
       "ACEInstance                                                                \n",
       "899464                        GIOVANNA AZEVEDO           40165       226   \n",
       "899465       ROBSON LENIN EVANGELISTA CARVALHO            1314       240   \n",
       "899466                  RENATO BATISTA DE LIMA             620       240   \n",
       "899467                   RAUL RIBEIRO DE SOUZA            1245       240   \n",
       "899468                        CARTÃO MESTRE 03            1479       250   \n",
       "\n",
       "             EventArg  FloorName  \n",
       "ACEInstance                       \n",
       "899464              0        NaN  \n",
       "899465              0        NaN  \n",
       "899466              1        NaN  \n",
       "899467              1        NaN  \n",
       "899468              0        NaN  "
      ]
     },
     "execution_count": 5,
     "metadata": {},
     "output_type": "execute_result"
    }
   ],
   "source": [
    "# Visualização do dataframe\n",
    "df.tail()"
   ]
  },
  {
   "cell_type": "code",
   "execution_count": 6,
   "metadata": {},
   "outputs": [
    {
     "data": {
      "text/plain": [
       "Index(['EventTime', 'EventTypeNumber', 'EventObjectID', 'EventObjectName',\n",
       "       'EventObjectDevice', 'EventObjectType', 'EventObjectInstance',\n",
       "       'CardUserInstance', 'CardUserName', 'CardUserNumber', 'SiteCode',\n",
       "       'EventArg', 'FloorName'],\n",
       "      dtype='object')"
      ]
     },
     "execution_count": 6,
     "metadata": {},
     "output_type": "execute_result"
    }
   ],
   "source": [
    "#Identificando as colunas do dataframe\n",
    "df.columns"
   ]
  },
  {
   "cell_type": "markdown",
   "metadata": {},
   "source": [
    "`Algumas conclusões iniciais que podem ser destacadas a respeito dessa analise inicial`\n",
    "\n",
    "**Dicionário das variáveis**\n",
    ">* `ACEInstance` - Número de Registro dos Eventos do Controle de Acesso\n",
    ">* `EventTime` - Data e Hora do Evento\n",
    ">* `EventTypeNumber` - Número do Tipo do Evento\n",
    ">* `EventObjectID` - Código da torre e porta de acesso\n",
    ">* `EventObjectName` - Nome da Leitora do Evento\n",
    ">* `EventObjectDevice` - Endereço da Gerenciadora de Acesso (Torres)\n",
    ">* `EventObjectType` - Tipo de Objeto da Gerenciadora de Acesso\n",
    ">* `EventObjectInstance` - Instancia do Tipo de Objeto da Gerenciadora\n",
    ">* `CardUserInstance` - Objeto CardUser do Usuario\n",
    ">* `CardUserName` - Nome do Usuario\n",
    ">* `CardUserNumber` - Número do Cartão do Usuário (Idenfificação exclusiva)\n",
    ">* `SiteCode` - Codigo do Cartão do Usuário  \n",
    ">* `EventArg` - Não identificado\n",
    ">* `FloorName` - Não identificado\n",
    "\n",
    "`Vamos realizar o levantamento dos tipos de variaveis que compoem o DataFrame a fim de estabelecer a divisão entre as variaveis numericas e as variaveis categoricas`"
   ]
  },
  {
   "cell_type": "code",
   "execution_count": 7,
   "metadata": {},
   "outputs": [
    {
     "name": "stdout",
     "output_type": "stream",
     "text": [
      "\n",
      "TIPOS DE VARIÁVEIS DO DATAFRAME:\n",
      "\n"
     ]
    },
    {
     "data": {
      "text/plain": [
       "EventTime               object\n",
       "EventTypeNumber          int64\n",
       "EventObjectID           object\n",
       "EventObjectName         object\n",
       "EventObjectDevice        int64\n",
       "EventObjectType         object\n",
       "EventObjectInstance      int64\n",
       "CardUserInstance         int64\n",
       "CardUserName            object\n",
       "CardUserNumber           int64\n",
       "SiteCode                 int64\n",
       "EventArg                 int64\n",
       "FloorName              float64\n",
       "dtype: object"
      ]
     },
     "metadata": {},
     "output_type": "display_data"
    }
   ],
   "source": [
    "# Verificar os tipos das variaveis do DataFrame\n",
    "print('\\nTIPOS DE VARIÁVEIS DO DATAFRAME:\\n')\n",
    "display(df.dtypes)"
   ]
  },
  {
   "attachments": {},
   "cell_type": "markdown",
   "metadata": {},
   "source": [
    "`Outra análise importante para se fazer é identificar a quantidade de dados ausentes por Variavel`"
   ]
  },
  {
   "cell_type": "code",
   "execution_count": 8,
   "metadata": {},
   "outputs": [
    {
     "name": "stdout",
     "output_type": "stream",
     "text": [
      "\n",
      "VALORES AUSENTES:\n",
      "\n"
     ]
    },
    {
     "data": {
      "text/plain": [
       "FloorName              100.000000\n",
       "CardUserName             1.069116\n",
       "EventTime                0.000000\n",
       "EventTypeNumber          0.000000\n",
       "EventObjectID            0.000000\n",
       "EventObjectName          0.000000\n",
       "EventObjectDevice        0.000000\n",
       "EventObjectType          0.000000\n",
       "EventObjectInstance      0.000000\n",
       "CardUserInstance         0.000000\n",
       "CardUserNumber           0.000000\n",
       "SiteCode                 0.000000\n",
       "EventArg                 0.000000\n",
       "dtype: float64"
      ]
     },
     "execution_count": 8,
     "metadata": {},
     "output_type": "execute_result"
    }
   ],
   "source": [
    "# Ordenar em ordem decrescente as variavieis por seus valores ausentes\n",
    "print('\\nVALORES AUSENTES:\\n')\n",
    "(df.isnull().sum() / df.shape[0]).sort_values(ascending=False)*100"
   ]
  },
  {
   "cell_type": "markdown",
   "metadata": {},
   "source": [
    "`Em realção à porcentagem de valores ausentes identificados neste dataset:`\n",
    "\n",
    ">* `A variavel` ['FloorName'] `possui ` 100% ` dos seus valores ausentes`\n",
    ">* `A variavel` ['CardUserName'] `possui ` 1.2% ` dos seus valores ausentes, ou seja, esse registro não tem idenfificação nominal`\n",
    "\n",
    "`Neste projeto, as variaveis de maior importancia não possuem ausencia de dados, possibilitando uma analise mais precisa`"
   ]
  },
  {
   "attachments": {},
   "cell_type": "markdown",
   "metadata": {},
   "source": [
    "`Outra análise interessante de se fazer diz respeito à contagem de valores únicos por Coluna.`"
   ]
  },
  {
   "cell_type": "code",
   "execution_count": 9,
   "metadata": {},
   "outputs": [
    {
     "name": "stdout",
     "output_type": "stream",
     "text": [
      "\n",
      "VALORES ÚNICOS:\n",
      "\n",
      "FloorName                   0\n",
      "EventObjectType             3\n",
      "EventObjectDevice           5\n",
      "EventArg                   11\n",
      "EventTypeNumber            14\n",
      "EventObjectInstance        24\n",
      "EventObjectName            34\n",
      "EventObjectID              78\n",
      "SiteCode                  192\n",
      "CardUserInstance         2306\n",
      "CardUserNumber           2429\n",
      "CardUserName             2629\n",
      "EventTime              874257\n",
      "dtype: int64\n"
     ]
    }
   ],
   "source": [
    "# Valores únicos\n",
    "print('\\nVALORES ÚNICOS:\\n')\n",
    "print(df.nunique().sort_values())"
   ]
  },
  {
   "cell_type": "markdown",
   "metadata": {},
   "source": [
    "`A contagem de valores unicos nos mostram que a variavel` ['FloorName'] `não apresenta nenhum valor unico. Como não há maiores informaçoes sobre essa variavel iremos destacar essa variavel na analise`"
   ]
  },
  {
   "cell_type": "markdown",
   "metadata": {},
   "source": [
    "**Preparação dos Dados**\n",
    "\n",
    "`Com as informações que obtivemos anteriormente da etapa anterior, vamos prosseguir com a limpeza e preparação dos dados`"
   ]
  },
  {
   "cell_type": "code",
   "execution_count": 10,
   "metadata": {},
   "outputs": [],
   "source": [
    "# Remover colunas indesejadas para um novo DataFrame\n",
    "df_clean = df.copy()\n",
    "df_clean.drop(['EventArg','FloorName','EventTypeNumber','EventObjectID','CardUserInstance'], axis=1 , inplace=True) #Inplace serve para aplicar a função na variavel original sem criar uma copia"
   ]
  },
  {
   "cell_type": "code",
   "execution_count": 11,
   "metadata": {},
   "outputs": [],
   "source": [
    "#Renomeando a colunas\n",
    "df_clean.rename(columns={'EventTime': 'Data/Hora'},inplace=True)\n",
    "df_clean.rename(columns={'EventObjectName': 'Entrada/Saida'},inplace=True)\n",
    "df_clean.rename(columns={'EventObjectDevice': 'Torre'},inplace=True)\n",
    "df_clean.rename(columns={'EventObjectType': 'Tipo_Objeto'},inplace=True)\n",
    "df_clean.rename(columns={'EventObjectInstance': 'Catraca'},inplace=True)\n",
    "df_clean.rename(columns={'CardUserName': 'Nome_Usuario'},inplace=True)\n",
    "df_clean.rename(columns={'CardUserNumber': 'Numero_Cartao'},inplace=True)\n"
   ]
  },
  {
   "cell_type": "code",
   "execution_count": 12,
   "metadata": {},
   "outputs": [],
   "source": [
    "# Alterando o tipo de dado da coluna EventTime\n",
    "df_clean['Data/Hora'] = pd.to_datetime(df_clean[\"Data/Hora\"])"
   ]
  },
  {
   "cell_type": "code",
   "execution_count": 13,
   "metadata": {},
   "outputs": [],
   "source": [
    "# Extrai a data e a hora em colunas separadas\n",
    "df_clean['Data'] = df_clean['Data/Hora'].dt.date\n",
    "df_clean['Hora'] = df_clean['Data/Hora'].dt.time\n"
   ]
  },
  {
   "cell_type": "code",
   "execution_count": 14,
   "metadata": {},
   "outputs": [],
   "source": [
    "# converter a coluna para o tipo datetime\n",
    "df_clean['Hora'] = pd.to_datetime(df_clean['Hora'], format='%H:%M:%S')\n",
    "# extrair apenas a hora de cada valor\n",
    "df_clean['Hora'] = df_clean['Hora'].dt.hour"
   ]
  },
  {
   "cell_type": "code",
   "execution_count": 15,
   "metadata": {},
   "outputs": [],
   "source": [
    "# Incluindo coluna data do EventTime apenas com mês e ano\n",
    "df_clean['Ano_Mes'] = df_clean['Data/Hora'].dt.strftime('%Y-%m')"
   ]
  },
  {
   "cell_type": "code",
   "execution_count": 16,
   "metadata": {},
   "outputs": [],
   "source": [
    "# Incluindo coluna data do EventTime apenas com mês e ano\n",
    "df_clean['Ano'] = df_clean[\"Data/Hora\"].apply(lambda x: \"{}\".format(x.year))\n",
    "\n",
    "#Separando Data por Mes\n",
    "df_clean['Mes'] = df_clean[\"Data/Hora\"].apply(lambda x: \"{:02d}\".format(x.month))"
   ]
  },
  {
   "cell_type": "code",
   "execution_count": 17,
   "metadata": {},
   "outputs": [],
   "source": [
    "# Removendo linhas do Tipo de Objeto da Gerenciadora de Acesso diferentes de DC (Door Controller)\n",
    "df_clean.drop(df_clean[df_clean.Tipo_Objeto != 'DC'].index, axis=0, inplace=True)"
   ]
  },
  {
   "cell_type": "code",
   "execution_count": 18,
   "metadata": {},
   "outputs": [],
   "source": [
    "# Extrair os dias da semana da coluna \"Data\"\n",
    "df_clean['Data'] = pd.to_datetime(df_clean['Data'])\n",
    "df_clean['dia_da_semana'] = df_clean['Data'].dt.strftime('%A')"
   ]
  },
  {
   "cell_type": "markdown",
   "metadata": {},
   "source": [
    "* `Foi feita uma copia do DataFrame original para que as alteraçoes sejam feitas apenas na copia.` \n",
    "* `As colunas` ['EventArg'] `e` ['FloorName'] `foram descartadas por não terem informaçoes relevantes para a analise.`\n",
    "* `Foi criada uma nova variavel chamada` ['EventDate'] `para representar somente a data do evento.`\n",
    "* `As colunas` ['EventTime'] `e` ['EventDate'] `foram alteradas para o tipo datetime64, pois são tipo de data/hora.`\n",
    "* `Nosso objetivo é a analisar somente o tipo de objeto` 'DC' `, pois isso foi descartada as entradas diferentes desse tipo de objeto especificado`\n"
   ]
  },
  {
   "cell_type": "markdown",
   "metadata": {},
   "source": [
    "**Dicionário das variáveis [`EventObjectDevice`]**\n",
    "\n",
    ">* `20000` - Gerenciadora de Acesso Torre E\n",
    "\n",
    ">>**Dicionário das variáveis [`EventObjectInstance`]**\n",
    "\n",
    ">>>* `801` - DC_Entrada CPD                                \n",
    ">>>* `901` - DC_Entrada Cancela                              \n",
    ">>>* `301` - DC_Entrada Catraca 01 Terreo                    \n",
    ">>>* `201` - DC_Entrada Catraca 02 Terreo                    \n",
    ">>>* `501` - DC_Entrada Catraca 03 Terreo                    \n",
    ">>>* `601` - DC_Entrada Catraca G1                           \n",
    ">>>* `701` - DC_Entrada Catraca G2                           \n",
    ">>>* `902` - DC_Saida Cancela                                \n",
    ">>>* `302` - DC_Saida Catraca 01 Terreo                      \n",
    ">>>* `202` - DC_Saida Catraca 02 Terreo                      \n",
    ">>>* `502` - DC_Saida Catraca 03 Terreo                      \n",
    ">>>* `602` - DC_Saida Catraca G1                             \n",
    ">>>* `702` - DC_Saida Catraca G2                             \n",
    ">>>* `101` - DC_Urna Catraca 01 Terreo                       \n",
    ">>>* `102` - DC_Urna Catraca 02 Terreo                       \n",
    ">>>* `401` - DC_Urna Catraca 03 Terreo      \n",
    "\n",
    "**Dicionário das variáveis [`EventObjectDevice`]**\n",
    "\n",
    ">* `30000` - Gerenciadora de Acesso Torre F\n",
    "\n",
    ">>**Dicionário das variáveis [`EventObjectInstance`]**\n",
    "\n",
    ">>>* `101` - DC_Entrada Catraca 01 Terreo\n",
    ">>>* `201` - DC_Entrada Catraca 02 Terreo\n",
    ">>>* `301` - DC_Entrada Catraca 03 Terreo\n",
    ">>>* `601` - DC_Entrada Catraca G1       \n",
    ">>>* `702` - DC_Entrada Catraca G2       \n",
    ">>>* `102` - DC_Saida Catraca 01 Terreo  \n",
    ">>>* `202` - DC_Saida Catraca 02 Terreo  \n",
    ">>>* `302` - DC_Saida Catraca 03 Terreo  \n",
    ">>>* `602` - DC_Saida Catraca G1         \n",
    ">>>* `701` - DC_Saida Catraca G2         \n",
    ">>>* `401` - DC_Urna Catraca 01 Terreo   \n",
    ">>>* `402` - DC_Urna Catraca 02 Terreo   \n",
    ">>>* `501` - DC_Urna Catraca 03 Terreo  "
   ]
  },
  {
   "cell_type": "code",
   "execution_count": 19,
   "metadata": {},
   "outputs": [],
   "source": [
    "# Alterando Valores da Coluna Torre\n",
    "df_clean['Torre'] = df_clean['Torre'].replace({30000: 'Torre F', 20000: 'Torre E'})"
   ]
  },
  {
   "cell_type": "code",
   "execution_count": 20,
   "metadata": {},
   "outputs": [],
   "source": [
    "#Excluindo valores NaN da Coluna Nome_Usuario\n",
    "df_clean.dropna(subset=['Nome_Usuario'],inplace=True)"
   ]
  },
  {
   "cell_type": "code",
   "execution_count": 21,
   "metadata": {},
   "outputs": [],
   "source": [
    "#Filtrando a coluna Torre por Torre E e F\n",
    "df_clean = df_clean[df_clean[\"Torre\"].isin([\"Torre E\", \"Torre F\"])]"
   ]
  },
  {
   "cell_type": "code",
   "execution_count": 22,
   "metadata": {},
   "outputs": [],
   "source": [
    "# Extrair as palavras \"Entrada\", \"Saida\" e \"Urna\" da coluna \"Texto\"\n",
    "df_clean['Acesso'] = df_clean['Entrada/Saida'].apply(lambda x: 'Entrada' if 'Entrada' in x else ('Saida' if 'Saida' in x else 'Urna'))\n",
    "\n",
    "# Apagar a coluna \"Entrada/Saida\"\n",
    "df_clean.drop('Entrada/Saida', axis=1, inplace=True)"
   ]
  },
  {
   "cell_type": "markdown",
   "metadata": {},
   "source": [
    "`Para uma analise mais eficiente e para cumprir com o objetivo desse projeto foi filtrado a variavel` ['EventTime'] `em um periodo de data especifico`"
   ]
  },
  {
   "cell_type": "code",
   "execution_count": 23,
   "metadata": {},
   "outputs": [],
   "source": [
    "# Filtro por data do evento\n",
    "mes_def = df_clean[(df_clean['Ano_Mes'] == '2022-07')]"
   ]
  },
  {
   "cell_type": "code",
   "execution_count": 24,
   "metadata": {},
   "outputs": [],
   "source": [
    "resultado=mes_def.groupby(['Data', 'Nome_Usuario','dia_da_semana']).agg(Entrada=('Data/Hora', 'first'), Saida=('Data/Hora', 'last'))\\\n",
    "    .assign(Horas_Trabalhadas=lambda x: x['Saida'] - x['Entrada']).apply(lambda x: x - timedelta(hours=1)).reset_index()"
   ]
  },
  {
   "cell_type": "code",
   "execution_count": 25,
   "metadata": {},
   "outputs": [
    {
     "data": {
      "text/html": [
       "<div>\n",
       "<style scoped>\n",
       "    .dataframe tbody tr th:only-of-type {\n",
       "        vertical-align: middle;\n",
       "    }\n",
       "\n",
       "    .dataframe tbody tr th {\n",
       "        vertical-align: top;\n",
       "    }\n",
       "\n",
       "    .dataframe thead th {\n",
       "        text-align: right;\n",
       "    }\n",
       "</style>\n",
       "<table border=\"1\" class=\"dataframe\">\n",
       "  <thead>\n",
       "    <tr style=\"text-align: right;\">\n",
       "      <th></th>\n",
       "      <th>Data</th>\n",
       "      <th>Nome_Usuario</th>\n",
       "      <th>dia_da_semana</th>\n",
       "      <th>Entrada</th>\n",
       "      <th>Saida</th>\n",
       "      <th>Horas_Trabalhadas</th>\n",
       "    </tr>\n",
       "  </thead>\n",
       "  <tbody>\n",
       "    <tr>\n",
       "      <th>121</th>\n",
       "      <td>2022-07-01</td>\n",
       "      <td>CÁSSIO DA SILVA ARAUJO</td>\n",
       "      <td>Friday</td>\n",
       "      <td>2022-07-01 07:00:29</td>\n",
       "      <td>2022-07-01 15:15:08</td>\n",
       "      <td>0 days 07:14:39</td>\n",
       "    </tr>\n",
       "    <tr>\n",
       "      <th>394</th>\n",
       "      <td>2022-07-04</td>\n",
       "      <td>CÁSSIO DA SILVA ARAUJO</td>\n",
       "      <td>Monday</td>\n",
       "      <td>2022-07-04 07:02:19</td>\n",
       "      <td>2022-07-04 16:46:58</td>\n",
       "      <td>0 days 08:44:39</td>\n",
       "    </tr>\n",
       "    <tr>\n",
       "      <th>610</th>\n",
       "      <td>2022-07-05</td>\n",
       "      <td>CÁSSIO DA SILVA ARAUJO</td>\n",
       "      <td>Tuesday</td>\n",
       "      <td>2022-07-05 06:58:00</td>\n",
       "      <td>2022-07-05 16:46:16</td>\n",
       "      <td>0 days 08:48:16</td>\n",
       "    </tr>\n",
       "    <tr>\n",
       "      <th>837</th>\n",
       "      <td>2022-07-06</td>\n",
       "      <td>CÁSSIO DA SILVA ARAUJO</td>\n",
       "      <td>Wednesday</td>\n",
       "      <td>2022-07-06 06:51:37</td>\n",
       "      <td>2022-07-06 16:44:56</td>\n",
       "      <td>0 days 08:53:19</td>\n",
       "    </tr>\n",
       "    <tr>\n",
       "      <th>1074</th>\n",
       "      <td>2022-07-07</td>\n",
       "      <td>CÁSSIO DA SILVA ARAUJO</td>\n",
       "      <td>Thursday</td>\n",
       "      <td>2022-07-07 06:57:34</td>\n",
       "      <td>2022-07-07 14:46:22</td>\n",
       "      <td>0 days 06:48:48</td>\n",
       "    </tr>\n",
       "    <tr>\n",
       "      <th>1287</th>\n",
       "      <td>2022-07-08</td>\n",
       "      <td>CÁSSIO DA SILVA ARAUJO</td>\n",
       "      <td>Friday</td>\n",
       "      <td>2022-07-08 06:51:54</td>\n",
       "      <td>2022-07-08 15:46:54</td>\n",
       "      <td>0 days 07:55:00</td>\n",
       "    </tr>\n",
       "    <tr>\n",
       "      <th>1529</th>\n",
       "      <td>2022-07-11</td>\n",
       "      <td>CÁSSIO DA SILVA ARAUJO</td>\n",
       "      <td>Monday</td>\n",
       "      <td>2022-07-11 07:03:38</td>\n",
       "      <td>2022-07-11 15:18:07</td>\n",
       "      <td>0 days 07:14:29</td>\n",
       "    </tr>\n",
       "    <tr>\n",
       "      <th>1739</th>\n",
       "      <td>2022-07-12</td>\n",
       "      <td>CÁSSIO DA SILVA ARAUJO</td>\n",
       "      <td>Tuesday</td>\n",
       "      <td>2022-07-12 07:00:44</td>\n",
       "      <td>2022-07-12 16:51:32</td>\n",
       "      <td>0 days 08:50:48</td>\n",
       "    </tr>\n",
       "    <tr>\n",
       "      <th>1975</th>\n",
       "      <td>2022-07-13</td>\n",
       "      <td>CÁSSIO DA SILVA ARAUJO</td>\n",
       "      <td>Wednesday</td>\n",
       "      <td>2022-07-13 07:03:59</td>\n",
       "      <td>2022-07-13 16:16:40</td>\n",
       "      <td>0 days 08:12:41</td>\n",
       "    </tr>\n",
       "    <tr>\n",
       "      <th>2207</th>\n",
       "      <td>2022-07-14</td>\n",
       "      <td>CÁSSIO DA SILVA ARAUJO</td>\n",
       "      <td>Thursday</td>\n",
       "      <td>2022-07-14 07:02:46</td>\n",
       "      <td>2022-07-14 16:46:36</td>\n",
       "      <td>0 days 08:43:50</td>\n",
       "    </tr>\n",
       "    <tr>\n",
       "      <th>2425</th>\n",
       "      <td>2022-07-15</td>\n",
       "      <td>CÁSSIO DA SILVA ARAUJO</td>\n",
       "      <td>Friday</td>\n",
       "      <td>2022-07-15 06:52:11</td>\n",
       "      <td>2022-07-15 15:37:09</td>\n",
       "      <td>0 days 07:44:58</td>\n",
       "    </tr>\n",
       "    <tr>\n",
       "      <th>2673</th>\n",
       "      <td>2022-07-18</td>\n",
       "      <td>CÁSSIO DA SILVA ARAUJO</td>\n",
       "      <td>Monday</td>\n",
       "      <td>2022-07-18 06:57:51</td>\n",
       "      <td>2022-07-18 16:49:33</td>\n",
       "      <td>0 days 08:51:42</td>\n",
       "    </tr>\n",
       "    <tr>\n",
       "      <th>2878</th>\n",
       "      <td>2022-07-19</td>\n",
       "      <td>CÁSSIO DA SILVA ARAUJO</td>\n",
       "      <td>Tuesday</td>\n",
       "      <td>2022-07-19 07:05:21</td>\n",
       "      <td>2022-07-19 16:46:41</td>\n",
       "      <td>0 days 08:41:20</td>\n",
       "    </tr>\n",
       "    <tr>\n",
       "      <th>3104</th>\n",
       "      <td>2022-07-20</td>\n",
       "      <td>CÁSSIO DA SILVA ARAUJO</td>\n",
       "      <td>Wednesday</td>\n",
       "      <td>2022-07-20 06:32:01</td>\n",
       "      <td>2022-07-20 16:46:09</td>\n",
       "      <td>0 days 09:14:08</td>\n",
       "    </tr>\n",
       "    <tr>\n",
       "      <th>3317</th>\n",
       "      <td>2022-07-21</td>\n",
       "      <td>CÁSSIO DA SILVA ARAUJO</td>\n",
       "      <td>Thursday</td>\n",
       "      <td>2022-07-21 07:02:44</td>\n",
       "      <td>2022-07-21 16:46:03</td>\n",
       "      <td>0 days 08:43:19</td>\n",
       "    </tr>\n",
       "    <tr>\n",
       "      <th>3525</th>\n",
       "      <td>2022-07-22</td>\n",
       "      <td>CÁSSIO DA SILVA ARAUJO</td>\n",
       "      <td>Friday</td>\n",
       "      <td>2022-07-22 07:02:43</td>\n",
       "      <td>2022-07-22 15:50:23</td>\n",
       "      <td>0 days 07:47:40</td>\n",
       "    </tr>\n",
       "    <tr>\n",
       "      <th>3782</th>\n",
       "      <td>2022-07-25</td>\n",
       "      <td>CÁSSIO DA SILVA ARAUJO</td>\n",
       "      <td>Monday</td>\n",
       "      <td>2022-07-25 06:56:46</td>\n",
       "      <td>2022-07-25 16:46:27</td>\n",
       "      <td>0 days 08:49:41</td>\n",
       "    </tr>\n",
       "    <tr>\n",
       "      <th>4011</th>\n",
       "      <td>2022-07-26</td>\n",
       "      <td>CÁSSIO DA SILVA ARAUJO</td>\n",
       "      <td>Tuesday</td>\n",
       "      <td>2022-07-26 06:54:19</td>\n",
       "      <td>2022-07-26 16:45:20</td>\n",
       "      <td>0 days 08:51:01</td>\n",
       "    </tr>\n",
       "    <tr>\n",
       "      <th>4252</th>\n",
       "      <td>2022-07-27</td>\n",
       "      <td>CÁSSIO DA SILVA ARAUJO</td>\n",
       "      <td>Wednesday</td>\n",
       "      <td>2022-07-27 07:05:35</td>\n",
       "      <td>2022-07-27 16:46:31</td>\n",
       "      <td>0 days 08:40:56</td>\n",
       "    </tr>\n",
       "    <tr>\n",
       "      <th>4498</th>\n",
       "      <td>2022-07-28</td>\n",
       "      <td>CÁSSIO DA SILVA ARAUJO</td>\n",
       "      <td>Thursday</td>\n",
       "      <td>2022-07-28 06:58:39</td>\n",
       "      <td>2022-07-28 16:45:46</td>\n",
       "      <td>0 days 08:47:07</td>\n",
       "    </tr>\n",
       "    <tr>\n",
       "      <th>4734</th>\n",
       "      <td>2022-07-29</td>\n",
       "      <td>CÁSSIO DA SILVA ARAUJO</td>\n",
       "      <td>Friday</td>\n",
       "      <td>2022-07-29 07:00:05</td>\n",
       "      <td>2022-07-29 15:47:38</td>\n",
       "      <td>0 days 07:47:33</td>\n",
       "    </tr>\n",
       "  </tbody>\n",
       "</table>\n",
       "</div>"
      ],
      "text/plain": [
       "           Data            Nome_Usuario dia_da_semana             Entrada  \\\n",
       "121  2022-07-01  CÁSSIO DA SILVA ARAUJO        Friday 2022-07-01 07:00:29   \n",
       "394  2022-07-04  CÁSSIO DA SILVA ARAUJO        Monday 2022-07-04 07:02:19   \n",
       "610  2022-07-05  CÁSSIO DA SILVA ARAUJO       Tuesday 2022-07-05 06:58:00   \n",
       "837  2022-07-06  CÁSSIO DA SILVA ARAUJO     Wednesday 2022-07-06 06:51:37   \n",
       "1074 2022-07-07  CÁSSIO DA SILVA ARAUJO      Thursday 2022-07-07 06:57:34   \n",
       "1287 2022-07-08  CÁSSIO DA SILVA ARAUJO        Friday 2022-07-08 06:51:54   \n",
       "1529 2022-07-11  CÁSSIO DA SILVA ARAUJO        Monday 2022-07-11 07:03:38   \n",
       "1739 2022-07-12  CÁSSIO DA SILVA ARAUJO       Tuesday 2022-07-12 07:00:44   \n",
       "1975 2022-07-13  CÁSSIO DA SILVA ARAUJO     Wednesday 2022-07-13 07:03:59   \n",
       "2207 2022-07-14  CÁSSIO DA SILVA ARAUJO      Thursday 2022-07-14 07:02:46   \n",
       "2425 2022-07-15  CÁSSIO DA SILVA ARAUJO        Friday 2022-07-15 06:52:11   \n",
       "2673 2022-07-18  CÁSSIO DA SILVA ARAUJO        Monday 2022-07-18 06:57:51   \n",
       "2878 2022-07-19  CÁSSIO DA SILVA ARAUJO       Tuesday 2022-07-19 07:05:21   \n",
       "3104 2022-07-20  CÁSSIO DA SILVA ARAUJO     Wednesday 2022-07-20 06:32:01   \n",
       "3317 2022-07-21  CÁSSIO DA SILVA ARAUJO      Thursday 2022-07-21 07:02:44   \n",
       "3525 2022-07-22  CÁSSIO DA SILVA ARAUJO        Friday 2022-07-22 07:02:43   \n",
       "3782 2022-07-25  CÁSSIO DA SILVA ARAUJO        Monday 2022-07-25 06:56:46   \n",
       "4011 2022-07-26  CÁSSIO DA SILVA ARAUJO       Tuesday 2022-07-26 06:54:19   \n",
       "4252 2022-07-27  CÁSSIO DA SILVA ARAUJO     Wednesday 2022-07-27 07:05:35   \n",
       "4498 2022-07-28  CÁSSIO DA SILVA ARAUJO      Thursday 2022-07-28 06:58:39   \n",
       "4734 2022-07-29  CÁSSIO DA SILVA ARAUJO        Friday 2022-07-29 07:00:05   \n",
       "\n",
       "                   Saida Horas_Trabalhadas  \n",
       "121  2022-07-01 15:15:08   0 days 07:14:39  \n",
       "394  2022-07-04 16:46:58   0 days 08:44:39  \n",
       "610  2022-07-05 16:46:16   0 days 08:48:16  \n",
       "837  2022-07-06 16:44:56   0 days 08:53:19  \n",
       "1074 2022-07-07 14:46:22   0 days 06:48:48  \n",
       "1287 2022-07-08 15:46:54   0 days 07:55:00  \n",
       "1529 2022-07-11 15:18:07   0 days 07:14:29  \n",
       "1739 2022-07-12 16:51:32   0 days 08:50:48  \n",
       "1975 2022-07-13 16:16:40   0 days 08:12:41  \n",
       "2207 2022-07-14 16:46:36   0 days 08:43:50  \n",
       "2425 2022-07-15 15:37:09   0 days 07:44:58  \n",
       "2673 2022-07-18 16:49:33   0 days 08:51:42  \n",
       "2878 2022-07-19 16:46:41   0 days 08:41:20  \n",
       "3104 2022-07-20 16:46:09   0 days 09:14:08  \n",
       "3317 2022-07-21 16:46:03   0 days 08:43:19  \n",
       "3525 2022-07-22 15:50:23   0 days 07:47:40  \n",
       "3782 2022-07-25 16:46:27   0 days 08:49:41  \n",
       "4011 2022-07-26 16:45:20   0 days 08:51:01  \n",
       "4252 2022-07-27 16:46:31   0 days 08:40:56  \n",
       "4498 2022-07-28 16:45:46   0 days 08:47:07  \n",
       "4734 2022-07-29 15:47:38   0 days 07:47:33  "
      ]
     },
     "execution_count": 25,
     "metadata": {},
     "output_type": "execute_result"
    }
   ],
   "source": [
    "nome_usuario = 'CÁSSIO DA SILVA ARAUJO'  # Substitua pelo nome desejado\n",
    "resultado.loc[resultado['Nome_Usuario'] == nome_usuario]"
   ]
  },
  {
   "cell_type": "code",
   "execution_count": 26,
   "metadata": {},
   "outputs": [
    {
     "data": {
      "text/plain": [
       "44"
      ]
     },
     "execution_count": 26,
     "metadata": {},
     "output_type": "execute_result"
    }
   ],
   "source": [
    "round(resultado.loc[resultado['Nome_Usuario'] == nome_usuario]['Horas_Trabalhadas'].sum().total_seconds()/3600/4)"
   ]
  }
 ],
 "metadata": {
  "kernelspec": {
   "display_name": "Python 3.10.6 ('env': venv)",
   "language": "python",
   "name": "python3"
  },
  "language_info": {
   "codemirror_mode": {
    "name": "ipython",
    "version": 3
   },
   "file_extension": ".py",
   "mimetype": "text/x-python",
   "name": "python",
   "nbconvert_exporter": "python",
   "pygments_lexer": "ipython3",
   "version": "3.10.10"
  },
  "orig_nbformat": 4,
  "vscode": {
   "interpreter": {
    "hash": "feeace4150a73e2747b3a928bb0ebd09341f696133222743b838c7264486ba0d"
   }
  }
 },
 "nbformat": 4,
 "nbformat_minor": 2
}
